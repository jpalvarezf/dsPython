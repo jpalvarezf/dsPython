{
 "cells": [
  {
   "cell_type": "markdown",
   "metadata": {},
   "source": [
    "## Perfil del Investigador\n",
    "\n",
    "\n",
    "<img  width=\"30%\" alt=\"JPAF\" src=\"img/jpaf_pic.jpg\" style=\"display: inline-block;\"> \n",
    "\n",
    "### Datos Generales\n",
    "\n",
    "* **Dirección:** Km. 21.5 carretera a Fraijanes, L29, Colonia San Bernardo.\n",
    "* **Móvil:** +502 4030 3090 \n",
    "* **E-mail:** jpalvarez@gmail.com\n",
    "* **Estado Civil:** Soltero\n",
    "* **DPI:** 2599 04228 0101"
   ]
  },
  {
   "cell_type": "markdown",
   "metadata": {},
   "source": [
    "### Redes Sociales\n",
    "\n",
    "* **Twitter:** [jpalvarez](twitter.com/jpalvarez)\n",
    "* **LinkedIn:** [jpalvarezf](https://gt.linkedin.com/in/jpalvarezf)\n",
    "* **Skype:** jpalvarezf\n",
    "* **Google+:** [+jpalvarez](https://plus.google.com/111676625691326719853)"
   ]
  },
  {
   "cell_type": "markdown",
   "metadata": {},
   "source": [
    "### Bio\n",
    "Ingeniero Electrónico de la Universidad del Valle con una Maestría en Tecnología y Ciencias de la Computación de la misma universidad. Se ha dedicado por más de 20 años a proyectos de integración de tecnología tanto de hardware como software. En software conoce una selección amplia de lenguajes de programación, frameworks de desarrollo y plataformas open source para generar valor en las organizaciones. En Hardware conoce arquitecturas básicas de computación para IoT hasta sistemas distribuidos requeridos para Big Data. Ha sido catedrático en Tecnología (Programación, Project Management, Análisis de Sistemas, Desarrollo de Apps, Internet of Things, Data Science) en la Universidad Francisco Marroquín y Universidad Galileo. Actualmente interesado en implementar sistemas de Machine Learning para la toma de decisiones automatizadas y Sistemas expertos de e-Learning para mejorar la calidad educativa.  Voluntario en organizaciones sociales: Scouts de Guatemala, Despertermos Guatemala. En el 2014 fue parte del equipo ganador en Heurística UFM en un proyecto de emprendimiento para erradicar la Desnutrición Crónica Infantil."
   ]
  },
  {
   "cell_type": "markdown",
   "metadata": {},
   "source": [
    "### Competencias Principales\n",
    "* Liderazgo y trabajo en equipo,  a través de la organización de equipos de trabajo homogeneos y heterogeneos y la formulación de metas. Cumplimiento de objetivos para llegar a la obtención de beneficios colectivos e individuales.  Detección de cualidades y habilidades de las personas para la optimización de resultados.\n",
    "* Coordinación en la ejecución de proyectos y formulación de indicadores para cambios cualitativos y cuantitativos. \n",
    "* Facilidad de relaciones humanas e interpersonales, amplia experiencia en relaciones públicas y organización de equipos multidisciplinarios, coordinando alianzas estratégicas inter-institucionales.\n",
    "* Innovación e Investigación, creación de nuevos productos y alianzas estratégicas con resultados rentables para los involucrados\n",
    "* Facilidad en la transmisión de nuevos conocimientos, experiencia en la creación de cursos, módulos y secuencias didácticas de temas tradicionales o nuevos temas. Uso de metodologías no tradicionales para el proceso de enseñaza y aprendizaje.\n",
    "* Planificación y resultados basado en datos, experiencia en obtención, procesmiento y análisis de datos para la definición de métricas, controles, metas y evaluaciones de procesos empresariales y educativos"
   ]
  },
  {
   "cell_type": "markdown",
   "metadata": {},
   "source": [
    "### Estudios\n",
    "Año | Estudios\n",
    "---- | ----\n",
    "2013 | Maestría en Currículo, Primer año de la Maestría, Universidad del Valle de Guatemala\n",
    "2013 | Taller de TV y Radio, PCS Internacional.\n",
    "2013 | Curso de Innovación educativa con recursos abiertos, Tecnológico de Monterrey a través de Coursera.org\n",
    "2013 | Participación en el Seminario Internacional de Herramientas de eLearning Moodle MOOC 2013\n",
    "2013 | Simposio de Educación a Distancia, Consejo Nacional de Ciencia y Tecnología\n",
    "2013 | Curso Teaching with Moodle: An introduction, Moodle.org\n",
    "2012 | Participación en el Seminario Internacional de Herramientas de eLearning Moodle MOOC 2012\n",
    "2011 | Diplomado de Enseñanza en Línea, Integrating Technologies\n",
    "2003 | Maestría en Tecnología de la Información (infieri), Universidad del Valle de Guatemala – 2013 Tesis en curso\n",
    "2000 | Ingeniería Electrónica, Universidad del Valle de Guatemala\n",
    "1993 | Bachiller en Ciencias y Letras, Colegio Liceo Javier\n",
    "1988 | Estudios Primarios, Colegio Liceo Javier"
   ]
  }
 ],
 "metadata": {
  "kernelspec": {
   "display_name": "Python 2",
   "language": "python",
   "name": "python2"
  },
  "language_info": {
   "codemirror_mode": {
    "name": "ipython",
    "version": 2
   },
   "file_extension": ".py",
   "mimetype": "text/x-python",
   "name": "python",
   "nbconvert_exporter": "python",
   "pygments_lexer": "ipython2",
   "version": "2.7.11"
  }
 },
 "nbformat": 4,
 "nbformat_minor": 0
}
