{
 "cells": [
  {
   "cell_type": "markdown",
   "metadata": {},
   "source": [
    "# DataScience Python"
   ]
  },
  {
   "cell_type": "markdown",
   "metadata": {},
   "source": [
    "## Anaconda\n",
    "\n",
    "La plataforma **Anaconda** complementa la comunidad _Open Source_ de Python. Provee una plataforma muy rica para análisis de datos de nivel empresarial adoptando una arquitectura moderna para la ciencia de datos abiertos.\n",
    "\n",
    "<img width=\"60%\" alt=\"Anaconda\" src=\"https://www.continuum.io/sites/all/themes/continuum_foundation/images/logos/logo-anaconda.svg\">"
   ]
  },
  {
   "cell_type": "markdown",
   "metadata": {},
   "source": [
    "## Jupyter (antes iPython)\n",
    "\n",
    "\n",
    "El cuaderno-de-notas Jupyter (Jupyter Notebook) es una aplicación web que permite crear y compartir documentos que contienen código vivo, ecuaciones, visualización y texto explicativo. Entre sus usos están: limpieza y transformación de datos, simulación numérica, modelaje estadístico, _machine learning_ y mucho más. (http://jupyter.org/)\n",
    "\n",
    "<img width=\"70%\" alt=\"Jupyter Notebook\" src=\"http://jupyter.org/assets/jupyterpreview.png\">"
   ]
  },
  {
   "cell_type": "markdown",
   "metadata": {},
   "source": [
    "## Markdown\n",
    "\n",
    "**Markdown** es una forma de estilizar texto en la web. Uno puede controlar como se muestra un documento; dar formato a palabras con estilos como _italicas_, **negrillas**; agregar imágenes, crear listas y otras cosa que se pueden hacer con esta herramienta. Los formatos se dan escribiendo texto regular agregando caractéres no alfabéticos como `#` o `*`\n",
    "\n",
    ">Una excelente referencia para aprender Markdown es:\n",
    "\n",
    ">https://guides.github.com/features/mastering-markdown/\n",
    "\n",
    ">también se puede seguir la guía:\n",
    "\n",
    ">http://www.markdowntutorial.com/"
   ]
  },
  {
   "cell_type": "markdown",
   "metadata": {},
   "source": [
    "### Bibliografía\n",
    "\n",
    "[Introduction to Python for Econometrics, Statistics and Data Analysis](http://www.kevinsheppard.com/images/0/09/Python_introduction.pdf), Kevin Sheppard, University of Oxford\n",
    "\n"
   ]
  },
  {
   "cell_type": "markdown",
   "metadata": {},
   "source": [
    "### GitHub"
   ]
  },
  {
   "cell_type": "markdown",
   "metadata": {},
   "source": [
    "```shell\n",
    "echo \"# dsPython\" >> README.md\n",
    "git init\n",
    "git add README.md\n",
    "git commit -m \"first commit\"\n",
    "git remote add origin https://github.com/<USERNAME>/dsPython.git\n",
    "git push -u origin master\n",
    "```"
   ]
  }
 ],
 "metadata": {
  "kernelspec": {
   "display_name": "Python 2",
   "language": "python",
   "name": "python2"
  },
  "language_info": {
   "codemirror_mode": {
    "name": "ipython",
    "version": 2
   },
   "file_extension": ".py",
   "mimetype": "text/x-python",
   "name": "python",
   "nbconvert_exporter": "python",
   "pygments_lexer": "ipython2",
   "version": "2.7.11"
  }
 },
 "nbformat": 4,
 "nbformat_minor": 0
}
